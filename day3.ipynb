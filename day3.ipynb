{
  "nbformat": 4,
  "nbformat_minor": 0,
  "metadata": {
    "colab": {
      "provenance": [],
      "authorship_tag": "ABX9TyM7JrFfLAOMZ18pP9ranWTS",
      "include_colab_link": true
    },
    "kernelspec": {
      "name": "python3",
      "display_name": "Python 3"
    },
    "language_info": {
      "name": "python"
    }
  },
  "cells": [
    {
      "cell_type": "markdown",
      "metadata": {
        "id": "view-in-github",
        "colab_type": "text"
      },
      "source": [
        "<a href=\"https://colab.research.google.com/github/Srii-983/PyTorch_fundamentals1/blob/main/day3.ipynb\" target=\"_parent\"><img src=\"https://colab.research.google.com/assets/colab-badge.svg\" alt=\"Open In Colab\"/></a>"
      ]
    },
    {
      "cell_type": "code",
      "source": [
        "import torch\n",
        "import pandas as ps\n",
        "import numpy as np\n",
        "import matplotlib.pyplot as plt"
      ],
      "metadata": {
        "id": "U9VEp4f3_uYu"
      },
      "execution_count": null,
      "outputs": []
    },
    {
      "cell_type": "code",
      "source": [
        "#reshaping,stacking,squeezing tensors\n",
        "x=torch.arange(1.,5)\n",
        "x,x.shape\n"
      ],
      "metadata": {
        "colab": {
          "base_uri": "https://localhost:8080/"
        },
        "id": "VAuYXWRmQpgp",
        "outputId": "5ce07ca3-6ab5-4597-a09a-61e6e3d0051d"
      },
      "execution_count": null,
      "outputs": [
        {
          "output_type": "execute_result",
          "data": {
            "text/plain": [
              "(tensor([1., 2., 3., 4.]), torch.Size([4]))"
            ]
          },
          "metadata": {},
          "execution_count": 5
        }
      ]
    },
    {
      "cell_type": "code",
      "source": [
        "#add an extra dimension\n",
        "x_reshaped=x.reshape(4,)\n",
        "x_reshaped,x_reshaped.shape"
      ],
      "metadata": {
        "colab": {
          "base_uri": "https://localhost:8080/"
        },
        "id": "mII5B7JiShP_",
        "outputId": "47f974f9-9cf1-474f-e453-fce680cbaafc"
      },
      "execution_count": null,
      "outputs": [
        {
          "output_type": "execute_result",
          "data": {
            "text/plain": [
              "(tensor([1., 2., 3., 4.]), torch.Size([4]))"
            ]
          },
          "metadata": {},
          "execution_count": 6
        }
      ]
    },
    {
      "cell_type": "code",
      "source": [
        "#change the view\n",
        "z=x.view(1,4)\n",
        "z,z.shape\n"
      ],
      "metadata": {
        "colab": {
          "base_uri": "https://localhost:8080/"
        },
        "id": "pVC7Iq4jS2OE",
        "outputId": "d9600906-b45e-451a-e490-fa02835fa5e4"
      },
      "execution_count": null,
      "outputs": [
        {
          "output_type": "execute_result",
          "data": {
            "text/plain": [
              "(tensor([[1., 2., 3., 4.]]), torch.Size([1, 4]))"
            ]
          },
          "metadata": {},
          "execution_count": 7
        }
      ]
    },
    {
      "cell_type": "code",
      "source": [
        "#changing z changes x\n",
        "z[:,0]=4\n",
        "z,x"
      ],
      "metadata": {
        "colab": {
          "base_uri": "https://localhost:8080/"
        },
        "id": "sc99KKWkT3lJ",
        "outputId": "355eedd8-5c20-4d28-93f9-f6dcfca8bfc6"
      },
      "execution_count": null,
      "outputs": [
        {
          "output_type": "execute_result",
          "data": {
            "text/plain": [
              "(tensor([[4., 2., 3., 4.]]), tensor([4., 2., 3., 4.]))"
            ]
          },
          "metadata": {},
          "execution_count": 8
        }
      ]
    },
    {
      "cell_type": "code",
      "source": [
        "#stack tensors on top of each  other\n",
        "x_stacked=torch.stack([x,x,x,x],dim=1) #dim=0,3\n",
        "x_stacked"
      ],
      "metadata": {
        "colab": {
          "base_uri": "https://localhost:8080/"
        },
        "id": "1C-8oF44UPe8",
        "outputId": "fbef446e-249a-474a-f1f6-f0a64a6e7dcf"
      },
      "execution_count": null,
      "outputs": [
        {
          "output_type": "execute_result",
          "data": {
            "text/plain": [
              "tensor([[4., 4., 4., 4.],\n",
              "        [2., 2., 2., 2.],\n",
              "        [3., 3., 3., 3.],\n",
              "        [4., 4., 4., 4.]])"
            ]
          },
          "metadata": {},
          "execution_count": 9
        }
      ]
    },
    {
      "cell_type": "code",
      "source": [
        "#torch.squeeze=removes all single dimensions from a target tensor\n",
        "x_reshaped,x_reshaped.shape"
      ],
      "metadata": {
        "colab": {
          "base_uri": "https://localhost:8080/"
        },
        "id": "E61AfTRsUsUk",
        "outputId": "76509280-9bac-4d32-c4b9-57a6af97616d"
      },
      "execution_count": null,
      "outputs": [
        {
          "output_type": "execute_result",
          "data": {
            "text/plain": [
              "(tensor([4., 2., 3., 4.]), torch.Size([4]))"
            ]
          },
          "metadata": {},
          "execution_count": 10
        }
      ]
    },
    {
      "cell_type": "code",
      "source": [
        "x_squeezed=x_reshaped.squeeze()\n",
        "x_squeezed,x_squeezed.shape"
      ],
      "metadata": {
        "colab": {
          "base_uri": "https://localhost:8080/"
        },
        "id": "zmVHh_QjVQvS",
        "outputId": "29139863-52c5-4fd2-a60a-d07859d2fe93"
      },
      "execution_count": null,
      "outputs": [
        {
          "output_type": "execute_result",
          "data": {
            "text/plain": [
              "(tensor([4., 2., 3., 4.]), torch.Size([4]))"
            ]
          },
          "metadata": {},
          "execution_count": 11
        }
      ]
    },
    {
      "cell_type": "code",
      "source": [
        "#torch.unsqueeze\n",
        "x_unsqueezed=x_squeezed.unsqueeze(dim=0)\n",
        "x_unsqueezed,x_unsqueezed.shape"
      ],
      "metadata": {
        "colab": {
          "base_uri": "https://localhost:8080/"
        },
        "id": "wCWqobdAVWeQ",
        "outputId": "9e3339bc-7a25-4e42-9c80-44b5147cd1cc"
      },
      "execution_count": null,
      "outputs": [
        {
          "output_type": "execute_result",
          "data": {
            "text/plain": [
              "(tensor([[4., 2., 3., 4.]]), torch.Size([1, 4]))"
            ]
          },
          "metadata": {},
          "execution_count": 12
        }
      ]
    },
    {
      "cell_type": "code",
      "source": [
        "#torch.permute-rearrange dimensions of  atarget tensor in a specified order\n",
        "x_ori=torch.rand(size=(224,224,3))\n",
        "#permute the original tensors to arrange the axis or dim order\n",
        "x_permuted=x_ori.permute(2,0,1)#shifts axis 0->1,1->2,2->0\n",
        "x_ori.shape, x_permuted.shape\n"
      ],
      "metadata": {
        "colab": {
          "base_uri": "https://localhost:8080/"
        },
        "id": "sZYHDnpCWTTM",
        "outputId": "6692c972-e8ba-49db-d76d-122820aaaf46"
      },
      "execution_count": null,
      "outputs": [
        {
          "output_type": "execute_result",
          "data": {
            "text/plain": [
              "(torch.Size([224, 224, 3]), torch.Size([3, 224, 224]))"
            ]
          },
          "metadata": {},
          "execution_count": 13
        }
      ]
    },
    {
      "cell_type": "code",
      "source": [
        "x_ori"
      ],
      "metadata": {
        "colab": {
          "base_uri": "https://localhost:8080/"
        },
        "id": "mjWuTr8pXUmv",
        "outputId": "9bbb51cc-76ce-429b-806b-7826bb114699"
      },
      "execution_count": null,
      "outputs": [
        {
          "output_type": "execute_result",
          "data": {
            "text/plain": [
              "tensor([[[0.9367, 0.2707, 0.8304],\n",
              "         [0.7994, 0.2313, 0.3682],\n",
              "         [0.9767, 0.2923, 0.1208],\n",
              "         ...,\n",
              "         [0.1146, 0.5775, 0.5742],\n",
              "         [0.3562, 0.3037, 0.6948],\n",
              "         [0.6567, 0.8556, 0.6998]],\n",
              "\n",
              "        [[0.6049, 0.3386, 0.6828],\n",
              "         [0.5225, 0.8205, 0.1495],\n",
              "         [0.9037, 0.7722, 0.8741],\n",
              "         ...,\n",
              "         [0.0287, 0.6216, 0.2776],\n",
              "         [0.4952, 0.4560, 0.2673],\n",
              "         [0.9756, 0.9828, 0.9600]],\n",
              "\n",
              "        [[0.9630, 0.4087, 0.6854],\n",
              "         [0.2433, 0.6506, 0.3958],\n",
              "         [0.5921, 0.8192, 0.1133],\n",
              "         ...,\n",
              "         [0.4895, 0.0761, 0.0894],\n",
              "         [0.2690, 0.0126, 0.2546],\n",
              "         [0.0639, 0.6039, 0.3771]],\n",
              "\n",
              "        ...,\n",
              "\n",
              "        [[0.9814, 0.4925, 0.0024],\n",
              "         [0.0102, 0.3619, 0.8324],\n",
              "         [0.1491, 0.5478, 0.2994],\n",
              "         ...,\n",
              "         [0.4528, 0.7707, 0.9128],\n",
              "         [0.6398, 0.0753, 0.0978],\n",
              "         [0.2853, 0.2911, 0.8629]],\n",
              "\n",
              "        [[0.1499, 0.1046, 0.2624],\n",
              "         [0.6449, 0.0589, 0.1077],\n",
              "         [0.2321, 0.8586, 0.7149],\n",
              "         ...,\n",
              "         [0.6457, 0.6687, 0.6294],\n",
              "         [0.6813, 0.9081, 0.4676],\n",
              "         [0.4571, 0.4850, 0.8379]],\n",
              "\n",
              "        [[0.0012, 0.1123, 0.2196],\n",
              "         [0.7753, 0.7251, 0.8805],\n",
              "         [0.8046, 0.8133, 0.9289],\n",
              "         ...,\n",
              "         [0.5809, 0.9040, 0.9209],\n",
              "         [0.7833, 0.8886, 0.5221],\n",
              "         [0.4848, 0.5365, 0.6989]]])"
            ]
          },
          "metadata": {},
          "execution_count": 14
        }
      ]
    },
    {
      "cell_type": "code",
      "source": [
        "x_ori[0,0,0]=728218\n",
        "x_ori[0,0,0],x_permuted[0,0,0]"
      ],
      "metadata": {
        "colab": {
          "base_uri": "https://localhost:8080/"
        },
        "id": "43nbd1SSXua-",
        "outputId": "5337e9be-7f29-4221-81be-eba3d6e40a8a"
      },
      "execution_count": null,
      "outputs": [
        {
          "output_type": "execute_result",
          "data": {
            "text/plain": [
              "(tensor(728218.), tensor(728218.))"
            ]
          },
          "metadata": {},
          "execution_count": 15
        }
      ]
    },
    {
      "cell_type": "code",
      "source": [
        "#indexing with pytorch is similar to indexing with numpy\n",
        "x=torch.arange(1,10).reshape(1,3,3)\n",
        "x,x.shape"
      ],
      "metadata": {
        "colab": {
          "base_uri": "https://localhost:8080/"
        },
        "id": "xjfTABuOYKQ1",
        "outputId": "aea8c35f-3620-41a3-ae88-9f6d9bc3746d"
      },
      "execution_count": null,
      "outputs": [
        {
          "output_type": "execute_result",
          "data": {
            "text/plain": [
              "(tensor([[[1, 2, 3],\n",
              "          [4, 5, 6],\n",
              "          [7, 8, 9]]]),\n",
              " torch.Size([1, 3, 3]))"
            ]
          },
          "metadata": {},
          "execution_count": 16
        }
      ]
    },
    {
      "cell_type": "code",
      "source": [
        "x[0] #index on tensor"
      ],
      "metadata": {
        "colab": {
          "base_uri": "https://localhost:8080/"
        },
        "id": "rDRKldgRYleM",
        "outputId": "4671b685-2156-47fe-9b85-3a9f4b0bb938"
      },
      "execution_count": null,
      "outputs": [
        {
          "output_type": "execute_result",
          "data": {
            "text/plain": [
              "tensor([[1, 2, 3],\n",
              "        [4, 5, 6],\n",
              "        [7, 8, 9]])"
            ]
          },
          "metadata": {},
          "execution_count": 17
        }
      ]
    },
    {
      "cell_type": "code",
      "source": [
        "x[0][0] #index on middle bracket (dim=1)"
      ],
      "metadata": {
        "colab": {
          "base_uri": "https://localhost:8080/"
        },
        "id": "BlFrAag9YskI",
        "outputId": "4187c948-9b53-422d-f2d4-2422b681bca0"
      },
      "execution_count": null,
      "outputs": [
        {
          "output_type": "execute_result",
          "data": {
            "text/plain": [
              "tensor([1, 2, 3])"
            ]
          },
          "metadata": {},
          "execution_count": 18
        }
      ]
    },
    {
      "cell_type": "code",
      "source": [
        "x[0][0][0] #indexx on most inner bracket(dim=last)"
      ],
      "metadata": {
        "colab": {
          "base_uri": "https://localhost:8080/"
        },
        "id": "m5oJE3oxYu19",
        "outputId": "7eda39a0-b2c7-4bb4-ed70-0f95f28efaf6"
      },
      "execution_count": null,
      "outputs": [
        {
          "output_type": "execute_result",
          "data": {
            "text/plain": [
              "tensor(1)"
            ]
          },
          "metadata": {},
          "execution_count": 19
        }
      ]
    },
    {
      "cell_type": "code",
      "source": [
        "x[0][1][1]"
      ],
      "metadata": {
        "colab": {
          "base_uri": "https://localhost:8080/"
        },
        "id": "jSFGrWzXY4L0",
        "outputId": "9724ab3e-cc03-4017-9a09-830a75534101"
      },
      "execution_count": null,
      "outputs": [
        {
          "output_type": "execute_result",
          "data": {
            "text/plain": [
              "tensor(5)"
            ]
          },
          "metadata": {},
          "execution_count": 20
        }
      ]
    },
    {
      "cell_type": "code",
      "source": [
        "x[:,0]"
      ],
      "metadata": {
        "colab": {
          "base_uri": "https://localhost:8080/"
        },
        "id": "BEbR_T7RZKuB",
        "outputId": "bc01d2d5-519b-4fe5-992c-58f7abbd2370"
      },
      "execution_count": null,
      "outputs": [
        {
          "output_type": "execute_result",
          "data": {
            "text/plain": [
              "tensor([[1, 2, 3]])"
            ]
          },
          "metadata": {},
          "execution_count": 21
        }
      ]
    },
    {
      "cell_type": "code",
      "source": [
        "#get all values of 0th and 1st dimensons but only index 1 and 2nd dimension\n",
        "x[:,:,1]"
      ],
      "metadata": {
        "colab": {
          "base_uri": "https://localhost:8080/"
        },
        "id": "NOB46n3pZPgQ",
        "outputId": "b6bae989-1bd9-4fba-8ea4-f3a407cf8a4d"
      },
      "execution_count": null,
      "outputs": [
        {
          "output_type": "execute_result",
          "data": {
            "text/plain": [
              "tensor([[2, 5, 8]])"
            ]
          },
          "metadata": {},
          "execution_count": 22
        }
      ]
    },
    {
      "cell_type": "code",
      "source": [
        "#get all values of 0 dimension but only the 1 index value of 1st and 2nd dimension\n",
        "x[:,1,1]"
      ],
      "metadata": {
        "colab": {
          "base_uri": "https://localhost:8080/"
        },
        "id": "lK4ZcnF0ZhRl",
        "outputId": "d7edbf94-38cb-4857-f91f-cf4b5863e740"
      },
      "execution_count": null,
      "outputs": [
        {
          "output_type": "execute_result",
          "data": {
            "text/plain": [
              "tensor([5])"
            ]
          },
          "metadata": {},
          "execution_count": 23
        }
      ]
    },
    {
      "cell_type": "code",
      "source": [
        "#index on x to return 9\n",
        "x"
      ],
      "metadata": {
        "colab": {
          "base_uri": "https://localhost:8080/"
        },
        "id": "AAFJFj4QZ1gI",
        "outputId": "0be22991-a8c0-4ebd-9e06-051b736fcd1e"
      },
      "execution_count": null,
      "outputs": [
        {
          "output_type": "execute_result",
          "data": {
            "text/plain": [
              "tensor([[[1, 2, 3],\n",
              "         [4, 5, 6],\n",
              "         [7, 8, 9]]])"
            ]
          },
          "metadata": {},
          "execution_count": 24
        }
      ]
    },
    {
      "cell_type": "code",
      "source": [
        "#pyRorch tensors and numpy\n",
        "#numpy is a popular scientific python numeerical computing library\n",
        "#data in numpy, want inn pytorch tensor -> torch,from_numpy(ndarray)\n",
        "#pytorch tensor-> numpy-> torch.Tensor.numpy()"
      ],
      "metadata": {
        "id": "iQ-NVF2EaEh_"
      },
      "execution_count": null,
      "outputs": []
    },
    {
      "cell_type": "code",
      "source": [
        "a= np.arange(1.0,8.0)\n",
        "tensor=torch.from_numpy(a) #when converting from numpy->pytorch ,pytorch reflects numpy as default datatype of float64 unlesss specified otherwise\n",
        "a,tensor"
      ],
      "metadata": {
        "colab": {
          "base_uri": "https://localhost:8080/"
        },
        "id": "lFkvvPtb7Qia",
        "outputId": "898c7cb6-5ea9-4324-814d-00b8e60d21e1"
      },
      "execution_count": null,
      "outputs": [
        {
          "output_type": "execute_result",
          "data": {
            "text/plain": [
              "(array([1., 2., 3., 4., 5., 6., 7.]),\n",
              " tensor([1., 2., 3., 4., 5., 6., 7.], dtype=torch.float64))"
            ]
          },
          "metadata": {},
          "execution_count": 31
        }
      ]
    },
    {
      "cell_type": "code",
      "source": [
        "a.dtype"
      ],
      "metadata": {
        "colab": {
          "base_uri": "https://localhost:8080/"
        },
        "id": "zlJ2JhDx7biw",
        "outputId": "90a85540-d3d8-43f0-91e5-065d57f6c20f"
      },
      "execution_count": null,
      "outputs": [
        {
          "output_type": "execute_result",
          "data": {
            "text/plain": [
              "dtype('float64')"
            ]
          },
          "metadata": {},
          "execution_count": 32
        }
      ]
    },
    {
      "cell_type": "code",
      "source": [
        "torch.arange(1.0,8.0).dtype"
      ],
      "metadata": {
        "colab": {
          "base_uri": "https://localhost:8080/"
        },
        "id": "uuLbq3Jr71XC",
        "outputId": "d2b303ea-d406-437e-eeea-10ee5ad90c37"
      },
      "execution_count": null,
      "outputs": [
        {
          "output_type": "execute_result",
          "data": {
            "text/plain": [
              "torch.float32"
            ]
          },
          "metadata": {},
          "execution_count": 35
        }
      ]
    },
    {
      "cell_type": "code",
      "source": [],
      "metadata": {
        "id": "kIxx43Mo73H2"
      },
      "execution_count": null,
      "outputs": []
    }
  ]
}